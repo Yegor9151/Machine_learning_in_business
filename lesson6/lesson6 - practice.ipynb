{
 "cells": [
  {
   "cell_type": "markdown",
   "metadata": {},
   "source": [
    "### Библиотеки"
   ]
  },
  {
   "cell_type": "code",
   "execution_count": 1,
   "metadata": {},
   "outputs": [],
   "source": [
    "import pandas as pd\n",
    "import numpy as np\n",
    "\n",
    "import matplotlib.pyplot as plt\n",
    "%matplotlib inline\n",
    "\n",
    "import warnings\n",
    "warnings.filterwarnings('ignore')"
   ]
  },
  {
   "cell_type": "markdown",
   "metadata": {},
   "source": [
    "### Функции предобработки"
   ]
  },
  {
   "cell_type": "code",
   "execution_count": 2,
   "metadata": {},
   "outputs": [],
   "source": [
    "def reduction_memory(df: pd.DataFrame) -> pd.DataFrame:\n",
    "    \"\"\"function for reduction memory size\"\"\"\n",
    "    \n",
    "    df_c = df.copy()\n",
    "    \n",
    "    for column in df_c.columns:\n",
    "    \n",
    "        series = df_c[df_c[column].notna()][column]\n",
    "        \n",
    "        if series.dtype == 'float64':\n",
    "            if (series != series.astype('float32')).sum() == 0:\n",
    "                df_c[column] = series.astype('float32')\n",
    "        elif series.dtype == 'int64':\n",
    "            if (series != series.astype('int8')).sum() == 0:\n",
    "                df_c[column] = series.astype('int8')\n",
    "            elif (series != series.astype('int16')).sum() == 0:\n",
    "                df_c[column] = series.astype('int16')\n",
    "            elif (series != series.astype('int32')).sum() == 0:\n",
    "                df_c[column] = series.astype('int32')\n",
    "                \n",
    "    mb_before = df.memory_usage().sum() * 1e-6\n",
    "    mb_after = df_c.memory_usage().sum() * 1e-6\n",
    "    mb_reduced = mb_before - mb_after\n",
    "    \n",
    "    print(f'before:\\t\\t{round(mb_before, 2)} mb\\n', \n",
    "          f'after:\\t\\t{round(mb_after, 2)} mb\\n',\n",
    "          f'reduсed:\\t{round(mb_reduced, 2)} mb',\n",
    "          sep='')\n",
    "    \n",
    "    return df_c"
   ]
  },
  {
   "cell_type": "markdown",
   "metadata": {},
   "source": [
    "### Чтение датасета и уменьшение объема"
   ]
  },
  {
   "cell_type": "code",
   "execution_count": 3,
   "metadata": {
    "scrolled": true
   },
   "outputs": [
    {
     "name": "stdout",
     "output_type": "stream",
     "text": [
      "before:\t\t62.22 mb\n",
      "after:\t\t44.72 mb\n",
      "reduсed:\t17.5 mb\n"
     ]
    },
    {
     "data": {
      "text/html": [
       "<div>\n",
       "<style scoped>\n",
       "    .dataframe tbody tr th:only-of-type {\n",
       "        vertical-align: middle;\n",
       "    }\n",
       "\n",
       "    .dataframe tbody tr th {\n",
       "        vertical-align: top;\n",
       "    }\n",
       "\n",
       "    .dataframe thead th {\n",
       "        text-align: right;\n",
       "    }\n",
       "</style>\n",
       "<table border=\"1\" class=\"dataframe\">\n",
       "  <thead>\n",
       "    <tr style=\"text-align: right;\">\n",
       "      <th></th>\n",
       "      <th>Exposure</th>\n",
       "      <th>LicAge</th>\n",
       "      <th>RecordBeg</th>\n",
       "      <th>RecordEnd</th>\n",
       "      <th>VehAge</th>\n",
       "      <th>Gender</th>\n",
       "      <th>MariStat</th>\n",
       "      <th>SocioCateg</th>\n",
       "      <th>VehUsage</th>\n",
       "      <th>DrivAge</th>\n",
       "      <th>...</th>\n",
       "      <th>ClaimInd</th>\n",
       "      <th>Dataset</th>\n",
       "      <th>DeducType</th>\n",
       "      <th>ClaimNbResp</th>\n",
       "      <th>ClaimNbNonResp</th>\n",
       "      <th>ClaimNbParking</th>\n",
       "      <th>ClaimNbFireTheft</th>\n",
       "      <th>ClaimNbWindscreen</th>\n",
       "      <th>OutUseNb</th>\n",
       "      <th>RiskArea</th>\n",
       "    </tr>\n",
       "  </thead>\n",
       "  <tbody>\n",
       "    <tr>\n",
       "      <td>0</td>\n",
       "      <td>0.583</td>\n",
       "      <td>366</td>\n",
       "      <td>2004-06-01</td>\n",
       "      <td>NaT</td>\n",
       "      <td>2</td>\n",
       "      <td>Female</td>\n",
       "      <td>Other</td>\n",
       "      <td>CSP1</td>\n",
       "      <td>Professional</td>\n",
       "      <td>55</td>\n",
       "      <td>...</td>\n",
       "      <td>0</td>\n",
       "      <td>1</td>\n",
       "      <td>NaN</td>\n",
       "      <td>NaN</td>\n",
       "      <td>NaN</td>\n",
       "      <td>NaN</td>\n",
       "      <td>NaN</td>\n",
       "      <td>NaN</td>\n",
       "      <td>NaN</td>\n",
       "      <td>NaN</td>\n",
       "    </tr>\n",
       "    <tr>\n",
       "      <td>1</td>\n",
       "      <td>0.200</td>\n",
       "      <td>187</td>\n",
       "      <td>2004-10-19</td>\n",
       "      <td>NaT</td>\n",
       "      <td>0</td>\n",
       "      <td>Male</td>\n",
       "      <td>Alone</td>\n",
       "      <td>CSP55</td>\n",
       "      <td>Private+trip to office</td>\n",
       "      <td>34</td>\n",
       "      <td>...</td>\n",
       "      <td>0</td>\n",
       "      <td>1</td>\n",
       "      <td>NaN</td>\n",
       "      <td>NaN</td>\n",
       "      <td>NaN</td>\n",
       "      <td>NaN</td>\n",
       "      <td>NaN</td>\n",
       "      <td>NaN</td>\n",
       "      <td>NaN</td>\n",
       "      <td>NaN</td>\n",
       "    </tr>\n",
       "    <tr>\n",
       "      <td>2</td>\n",
       "      <td>0.083</td>\n",
       "      <td>169</td>\n",
       "      <td>2004-07-16</td>\n",
       "      <td>2004-08-16</td>\n",
       "      <td>1</td>\n",
       "      <td>Female</td>\n",
       "      <td>Other</td>\n",
       "      <td>CSP1</td>\n",
       "      <td>Professional</td>\n",
       "      <td>33</td>\n",
       "      <td>...</td>\n",
       "      <td>0</td>\n",
       "      <td>1</td>\n",
       "      <td>NaN</td>\n",
       "      <td>NaN</td>\n",
       "      <td>NaN</td>\n",
       "      <td>NaN</td>\n",
       "      <td>NaN</td>\n",
       "      <td>NaN</td>\n",
       "      <td>NaN</td>\n",
       "      <td>NaN</td>\n",
       "    </tr>\n",
       "    <tr>\n",
       "      <td>3</td>\n",
       "      <td>0.375</td>\n",
       "      <td>170</td>\n",
       "      <td>2004-08-16</td>\n",
       "      <td>NaT</td>\n",
       "      <td>1</td>\n",
       "      <td>Female</td>\n",
       "      <td>Other</td>\n",
       "      <td>CSP1</td>\n",
       "      <td>Professional</td>\n",
       "      <td>34</td>\n",
       "      <td>...</td>\n",
       "      <td>0</td>\n",
       "      <td>1</td>\n",
       "      <td>NaN</td>\n",
       "      <td>NaN</td>\n",
       "      <td>NaN</td>\n",
       "      <td>NaN</td>\n",
       "      <td>NaN</td>\n",
       "      <td>NaN</td>\n",
       "      <td>NaN</td>\n",
       "      <td>NaN</td>\n",
       "    </tr>\n",
       "    <tr>\n",
       "      <td>4</td>\n",
       "      <td>0.500</td>\n",
       "      <td>224</td>\n",
       "      <td>2004-01-01</td>\n",
       "      <td>2004-07-01</td>\n",
       "      <td>3</td>\n",
       "      <td>Male</td>\n",
       "      <td>Other</td>\n",
       "      <td>CSP47</td>\n",
       "      <td>Professional</td>\n",
       "      <td>53</td>\n",
       "      <td>...</td>\n",
       "      <td>1</td>\n",
       "      <td>1</td>\n",
       "      <td>NaN</td>\n",
       "      <td>NaN</td>\n",
       "      <td>NaN</td>\n",
       "      <td>NaN</td>\n",
       "      <td>NaN</td>\n",
       "      <td>NaN</td>\n",
       "      <td>NaN</td>\n",
       "      <td>NaN</td>\n",
       "    </tr>\n",
       "  </tbody>\n",
       "</table>\n",
       "<p>5 rows × 31 columns</p>\n",
       "</div>"
      ],
      "text/plain": [
       "   Exposure  LicAge  RecordBeg  RecordEnd VehAge  Gender MariStat SocioCateg  \\\n",
       "0     0.583     366 2004-06-01        NaT      2  Female    Other       CSP1   \n",
       "1     0.200     187 2004-10-19        NaT      0    Male    Alone      CSP55   \n",
       "2     0.083     169 2004-07-16 2004-08-16      1  Female    Other       CSP1   \n",
       "3     0.375     170 2004-08-16        NaT      1  Female    Other       CSP1   \n",
       "4     0.500     224 2004-01-01 2004-07-01      3    Male    Other      CSP47   \n",
       "\n",
       "                 VehUsage  DrivAge  ...  ClaimInd  Dataset DeducType  \\\n",
       "0            Professional       55  ...         0        1       NaN   \n",
       "1  Private+trip to office       34  ...         0        1       NaN   \n",
       "2            Professional       33  ...         0        1       NaN   \n",
       "3            Professional       34  ...         0        1       NaN   \n",
       "4            Professional       53  ...         1        1       NaN   \n",
       "\n",
       "  ClaimNbResp ClaimNbNonResp ClaimNbParking ClaimNbFireTheft  \\\n",
       "0         NaN            NaN            NaN              NaN   \n",
       "1         NaN            NaN            NaN              NaN   \n",
       "2         NaN            NaN            NaN              NaN   \n",
       "3         NaN            NaN            NaN              NaN   \n",
       "4         NaN            NaN            NaN              NaN   \n",
       "\n",
       "  ClaimNbWindscreen  OutUseNb  RiskArea  \n",
       "0               NaN       NaN       NaN  \n",
       "1               NaN       NaN       NaN  \n",
       "2               NaN       NaN       NaN  \n",
       "3               NaN       NaN       NaN  \n",
       "4               NaN       NaN       NaN  \n",
       "\n",
       "[5 rows x 31 columns]"
      ]
     },
     "execution_count": 3,
     "metadata": {},
     "output_type": "execute_result"
    }
   ],
   "source": [
    "PATH_TO_FILE = 'freMPL-R.csv'\n",
    "\n",
    "df = pd.read_csv(PATH_TO_FILE, parse_dates=['RecordBeg', 'RecordEnd'])\n",
    "df = df.drop_duplicates()\n",
    "df = reduction_memory(df)\n",
    "\n",
    "df.head()"
   ]
  },
  {
   "cell_type": "markdown",
   "metadata": {},
   "source": [
    "## На основе датасета из ноутбука проведите анализ данных и постройте зависимости частоты и среднего убытка от какого-либо параметра (за исключением уже выполненных в ноутбуке)."
   ]
  },
  {
   "cell_type": "code",
   "execution_count": 4,
   "metadata": {},
   "outputs": [
    {
     "name": "stdout",
     "output_type": "stream",
     "text": [
      "<class 'pandas.core.frame.DataFrame'>\n",
      "Int64Index: 243065 entries, 0 to 343079\n",
      "Data columns (total 31 columns):\n",
      "Exposure             243065 non-null float64\n",
      "LicAge               243065 non-null int16\n",
      "RecordBeg            243065 non-null datetime64[ns]\n",
      "RecordEnd            126584 non-null datetime64[ns]\n",
      "VehAge               127875 non-null object\n",
      "Gender               243065 non-null object\n",
      "MariStat             243065 non-null object\n",
      "SocioCateg           243065 non-null object\n",
      "VehUsage             243065 non-null object\n",
      "DrivAge              243065 non-null int8\n",
      "HasKmLimit           243065 non-null int8\n",
      "BonusMalus           243065 non-null int16\n",
      "VehBody              105776 non-null object\n",
      "VehPrice             105776 non-null object\n",
      "VehEngine            105776 non-null object\n",
      "VehEnergy            105776 non-null object\n",
      "VehMaxSpeed          105776 non-null object\n",
      "VehClass             105776 non-null object\n",
      "ClaimAmount          243065 non-null float64\n",
      "RiskVar              105776 non-null float32\n",
      "Garage               105776 non-null object\n",
      "ClaimInd             243065 non-null int8\n",
      "Dataset              243065 non-null int8\n",
      "DeducType            46888 non-null object\n",
      "ClaimNbResp          137289 non-null float32\n",
      "ClaimNbNonResp       137289 non-null float32\n",
      "ClaimNbParking       137289 non-null float32\n",
      "ClaimNbFireTheft     137289 non-null float32\n",
      "ClaimNbWindscreen    137289 non-null float32\n",
      "OutUseNb             137289 non-null float32\n",
      "RiskArea             137289 non-null float32\n",
      "dtypes: datetime64[ns](2), float32(8), float64(2), int16(2), int8(4), object(13)\n",
      "memory usage: 42.7+ MB\n"
     ]
    }
   ],
   "source": [
    "df.info()"
   ]
  },
  {
   "cell_type": "markdown",
   "metadata": {},
   "source": [
    "##### Клиенты зарегистрированные в какие месяци получали больший объем исков по страховке среди фактов запросов на иск"
   ]
  },
  {
   "cell_type": "code",
   "execution_count": 5,
   "metadata": {},
   "outputs": [
    {
     "data": {
      "image/png": "[encoded data removed]",
      "text/plain": [
       "<Figure size 1008x288 with 1 Axes>"
      ]
     },
     "metadata": {
      "needs_background": "light"
     },
     "output_type": "display_data"
    }
   ],
   "source": [
    "# Record beg x Claim amount\n",
    "RecB_ClaimA = df[df['ClaimInd'] == 1][['RecordBeg', 'ClaimAmount']]\n",
    "RecB_ClaimA = RecB_ClaimA.set_index('RecordBeg').sort_index()\n",
    "RecB_ClaimA = RecB_ClaimA.resample('M').mean()\n",
    "\n",
    "plt.figure(figsize=(14,4))\n",
    "\n",
    "plt.plot(RecB_ClaimA.index, RecB_ClaimA['ClaimAmount'])\n",
    "plt.ylabel('Claim Amount')\n",
    "plt.grid()\n",
    "\n",
    "plt.show()"
   ]
  },
  {
   "cell_type": "markdown",
   "metadata": {},
   "source": [
    "- Видно что клюенты составившие договора в мае, а так же с августа по сентябрь получали больший объем компенсации\n",
    "\n",
    "_являются ли эти показатели цикличными или они не зависят от сезона?_\n",
    "\n",
    "##### Теперь просмотрим в какие месяци больше всего запросов на возмещение страховки"
   ]
  },
  {
   "cell_type": "code",
   "execution_count": 6,
   "metadata": {},
   "outputs": [
    {
     "data": {
      "image/png": "[encoded data removed]",
      "text/plain": [
       "<Figure size 1008x288 with 1 Axes>"
      ]
     },
     "metadata": {
      "needs_background": "light"
     },
     "output_type": "display_data"
    }
   ],
   "source": [
    "RecB_ClaimI = df[['RecordBeg', 'ClaimInd']].set_index('RecordBeg')\n",
    "RecB_ClaimI = RecB_ClaimI.sort_index()\n",
    "RecB_ClaimI = RecB_ClaimI.resample('M').sum()\n",
    "\n",
    "plt.figure(figsize=(14,4))\n",
    "\n",
    "plt.plot(RecB_ClaimI.index, RecB_ClaimI['ClaimInd'])\n",
    "plt.ylabel('Claim Ind')\n",
    "\n",
    "plt.grid()\n",
    "plt.show()"
   ]
  },
  {
   "cell_type": "markdown",
   "metadata": {},
   "source": [
    "- больше всего запросов в январе"
   ]
  },
  {
   "cell_type": "markdown",
   "metadata": {},
   "source": [
    "##### Просмотрим в какких каэффициентах - Бонус Малус самые больший средний показатель исков на страховку"
   ]
  },
  {
   "cell_type": "code",
   "execution_count": 7,
   "metadata": {
    "scrolled": true
   },
   "outputs": [
    {
     "data": {
      "image/png": "[encoded data removed]",
      "text/plain": [
       "<Figure size 1008x288 with 1 Axes>"
      ]
     },
     "metadata": {
      "needs_background": "light"
     },
     "output_type": "display_data"
    }
   ],
   "source": [
    "BonusM = df[['BonusMalus', 'ClaimAmount', 'ClaimInd']]\n",
    "\n",
    "BonusMalus = []\n",
    "ClaimAmount = []\n",
    "ClaimInd = []\n",
    "\n",
    "for bm in BonusM['BonusMalus'].unique():\n",
    "    mean_ca = BonusM[BonusM['BonusMalus'] == bm]['ClaimAmount'].mean()\n",
    "    count_ci = BonusM[BonusM['BonusMalus'] == bm]['ClaimInd'].sum()\n",
    "    \n",
    "    BonusMalus.append(bm)\n",
    "    ClaimAmount.append(mean_ca)\n",
    "    ClaimInd.append(count_ci)\n",
    "    \n",
    "Bm_dict = {'BonusMalus':BonusMalus, 'ClaimAmount': ClaimAmount, 'ClaimInd':ClaimInd}\n",
    "\n",
    "Bm = pd.DataFrame(Bm_dict).set_index('BonusMalus')\n",
    "Bm = Bm.sort_index()\n",
    "\n",
    "# plot\n",
    "plt.figure(figsize=(14,4))\n",
    "plt.plot(Bm.index, Bm['ClaimAmount'])\n",
    "\n",
    "plt.xlabel('Bonus Malus')\n",
    "plt.ylabel('Mean Claim Amount')\n",
    "\n",
    "plt.grid()\n",
    "plt.show()"
   ]
  },
  {
   "cell_type": "markdown",
   "metadata": {},
   "source": [
    "- Самые высокие запраты по искам находятсяв промежутке от 100 - 150\n",
    "\n",
    "##### Теперь просмотрим - лиди с каким показателем Бонус Малус запрашивают иски чаще"
   ]
  },
  {
   "cell_type": "code",
   "execution_count": 8,
   "metadata": {},
   "outputs": [
    {
     "data": {
      "image/png": "[encoded data removed]",
      "text/plain": [
       "<Figure size 1008x288 with 1 Axes>"
      ]
     },
     "metadata": {
      "needs_background": "light"
     },
     "output_type": "display_data"
    }
   ],
   "source": [
    "# plot\n",
    "plt.figure(figsize=(14,4))\n",
    "plt.plot(Bm.index, Bm['ClaimInd'])\n",
    "\n",
    "plt.xlabel('Bonus Malus')\n",
    "plt.ylabel('Mean Claim Ind')\n",
    "\n",
    "plt.grid()\n",
    "plt.show()"
   ]
  },
  {
   "cell_type": "markdown",
   "metadata": {},
   "source": [
    "- Видно что люди с самым низким коеффициентом Бонул Малус запрашивают иски чаше\n",
    " \n",
    "Видно, что люди с рейтингом от 100 до 150 полючают __большее возмещение__ по страховке, при том, что количество исков у них меньше. В то же время люди с __низкий рейтингом__, запрашивающие иски чаще получают гораздо __меньше компенсации__.<br>\n",
    "- _Говорит ли это о недобосовестности вторых или есть другие причины?_"
   ]
  }
 ],
 "metadata": {
  "kernelspec": {
   "display_name": "Python 3",
   "language": "python",
   "name": "python3"
  },
  "language_info": {
   "codemirror_mode": {
    "name": "ipython",
    "version": 3
   },
   "file_extension": ".py",
   "mimetype": "text/x-python",
   "name": "python",
   "nbconvert_exporter": "python",
   "pygments_lexer": "ipython3",
   "version": "3.7.4"
  }
 },
 "nbformat": 4,
 "nbformat_minor": 2
}
