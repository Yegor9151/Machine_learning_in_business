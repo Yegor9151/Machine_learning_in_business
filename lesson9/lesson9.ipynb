{
  "nbformat": 4,
  "nbformat_minor": 0,
  "metadata": {
    "kernelspec": {
      "display_name": "Python 3",
      "language": "python",
      "name": "python3"
    },
    "language_info": {
      "codemirror_mode": {
        "name": "ipython",
        "version": 3
      },
      "file_extension": ".py",
      "mimetype": "text/x-python",
      "name": "python",
      "nbconvert_exporter": "python",
      "pygments_lexer": "ipython3",
      "version": "3.7.4"
    },
    "colab": {
      "name": "lesson9.ipynb",
      "provenance": [],
      "toc_visible": true
    }
  },
  "cells": [
    {
      "cell_type": "markdown",
      "metadata": {
        "id": "KZFRWl5QgiFI"
      },
      "source": [
        "### Необходимо внедрить на фласк одну из моделей, которая у вас была в курсе."
      ]
    },
    {
      "cell_type": "code",
      "metadata": {
        "id": "s_PHvqavgpy_"
      },
      "source": [
        "# !pip install flask_ngrok\n",
        "# !pip install h2o"
      ],
      "execution_count": 1,
      "outputs": []
    },
    {
      "cell_type": "code",
      "metadata": {
        "id": "PcXFHadZgiFL",
        "colab": {
          "base_uri": "https://localhost:8080/"
        },
        "outputId": "b89208cd-c3df-4ed5-b677-51a639cbfef9"
      },
      "source": [
        "from flask_ngrok import run_with_ngrok\n",
        "from flask import Flask, request, jsonify\n",
        "\n",
        "from google.colab import drive\n",
        "drive.mount('/content/drive')"
      ],
      "execution_count": 2,
      "outputs": [
        {
          "output_type": "stream",
          "text": [
            "Drive already mounted at /content/drive; to attempt to forcibly remount, call drive.mount(\"/content/drive\", force_remount=True).\n"
          ],
          "name": "stdout"
        }
      ]
    },
    {
      "cell_type": "code",
      "metadata": {
        "colab": {
          "base_uri": "https://localhost:8080/",
          "height": 389
        },
        "id": "4ktibwlOgiFW",
        "outputId": "ef9a5ad1-9889-41ae-935a-945666e436a2"
      },
      "source": [
        "import h2o\n",
        "h2o.init()"
      ],
      "execution_count": 3,
      "outputs": [
        {
          "output_type": "stream",
          "text": [
            "Checking whether there is an H2O instance running at http://localhost:54321 . connected.\n"
          ],
          "name": "stdout"
        },
        {
          "output_type": "display_data",
          "data": {
            "text/html": [
              "<div style=\"overflow:auto\"><table style=\"width:50%\"><tr><td>H2O_cluster_uptime:</td>\n",
              "<td>1 hour 7 mins</td></tr>\n",
              "<tr><td>H2O_cluster_timezone:</td>\n",
              "<td>Etc/UTC</td></tr>\n",
              "<tr><td>H2O_data_parsing_timezone:</td>\n",
              "<td>UTC</td></tr>\n",
              "<tr><td>H2O_cluster_version:</td>\n",
              "<td>3.32.0.2</td></tr>\n",
              "<tr><td>H2O_cluster_version_age:</td>\n",
              "<td>8 days </td></tr>\n",
              "<tr><td>H2O_cluster_name:</td>\n",
              "<td>H2O_from_python_unknownUser_aip91f</td></tr>\n",
              "<tr><td>H2O_cluster_total_nodes:</td>\n",
              "<td>1</td></tr>\n",
              "<tr><td>H2O_cluster_free_memory:</td>\n",
              "<td>3.179 Gb</td></tr>\n",
              "<tr><td>H2O_cluster_total_cores:</td>\n",
              "<td>2</td></tr>\n",
              "<tr><td>H2O_cluster_allowed_cores:</td>\n",
              "<td>2</td></tr>\n",
              "<tr><td>H2O_cluster_status:</td>\n",
              "<td>locked, healthy</td></tr>\n",
              "<tr><td>H2O_connection_url:</td>\n",
              "<td>http://localhost:54321</td></tr>\n",
              "<tr><td>H2O_connection_proxy:</td>\n",
              "<td>{\"http\": null, \"https\": null}</td></tr>\n",
              "<tr><td>H2O_internal_security:</td>\n",
              "<td>False</td></tr>\n",
              "<tr><td>H2O_API_Extensions:</td>\n",
              "<td>Amazon S3, XGBoost, Algos, AutoML, Core V3, TargetEncoder, Core V4</td></tr>\n",
              "<tr><td>Python_version:</td>\n",
              "<td>3.6.9 final</td></tr></table></div>"
            ],
            "text/plain": [
              "--------------------------  ------------------------------------------------------------------\n",
              "H2O_cluster_uptime:         1 hour 7 mins\n",
              "H2O_cluster_timezone:       Etc/UTC\n",
              "H2O_data_parsing_timezone:  UTC\n",
              "H2O_cluster_version:        3.32.0.2\n",
              "H2O_cluster_version_age:    8 days\n",
              "H2O_cluster_name:           H2O_from_python_unknownUser_aip91f\n",
              "H2O_cluster_total_nodes:    1\n",
              "H2O_cluster_free_memory:    3.179 Gb\n",
              "H2O_cluster_total_cores:    2\n",
              "H2O_cluster_allowed_cores:  2\n",
              "H2O_cluster_status:         locked, healthy\n",
              "H2O_connection_url:         http://localhost:54321\n",
              "H2O_connection_proxy:       {\"http\": null, \"https\": null}\n",
              "H2O_internal_security:      False\n",
              "H2O_API_Extensions:         Amazon S3, XGBoost, Algos, AutoML, Core V3, TargetEncoder, Core V4\n",
              "Python_version:             3.6.9 final\n",
              "--------------------------  ------------------------------------------------------------------"
            ]
          },
          "metadata": {
            "tags": []
          }
        }
      ]
    },
    {
      "cell_type": "code",
      "metadata": {
        "id": "TVSkPfZogiFa"
      },
      "source": [
        "PATH_TO_MODEL = '/content/drive/MyDrive/Colab Notebooks/GLM_model_python_1606347737003_1'\n",
        "model_glm_binaminal = h2o.load_model(PATH_TO_MODEL)"
      ],
      "execution_count": 4,
      "outputs": []
    },
    {
      "cell_type": "code",
      "metadata": {
        "id": "QX87BfPmR6lh"
      },
      "source": [
        "def return_NewH2o_Frame():\n",
        "  columns = ['Exposure', 'LicAge', 'DrivAge', 'HasKmLimit', 'BonusMalus', 'Dataset']\n",
        "  return h2o.H2OFrame([[0,0,0,0,0,0]], column_names = columns)"
      ],
      "execution_count": 5,
      "outputs": []
    },
    {
      "cell_type": "code",
      "metadata": {
        "colab": {
          "base_uri": "https://localhost:8080/",
          "height": 78
        },
        "id": "soCCj7KOoeY5",
        "outputId": "6b8a1b95-a383-47b1-ef94-876cf3a6807f"
      },
      "source": [
        "return_NewH2o_Frame()"
      ],
      "execution_count": 6,
      "outputs": [
        {
          "output_type": "stream",
          "text": [
            "Parse progress: |█████████████████████████████████████████████████████████| 100%\n"
          ],
          "name": "stdout"
        },
        {
          "output_type": "display_data",
          "data": {
            "text/html": [
              "<table>\n",
              "<thead>\n",
              "<tr><th style=\"text-align: right;\">  Exposure</th><th style=\"text-align: right;\">  LicAge</th><th style=\"text-align: right;\">  DrivAge</th><th style=\"text-align: right;\">  HasKmLimit</th><th style=\"text-align: right;\">  BonusMalus</th><th style=\"text-align: right;\">  Dataset</th></tr>\n",
              "</thead>\n",
              "<tbody>\n",
              "<tr><td style=\"text-align: right;\">         0</td><td style=\"text-align: right;\">       0</td><td style=\"text-align: right;\">        0</td><td style=\"text-align: right;\">           0</td><td style=\"text-align: right;\">           0</td><td style=\"text-align: right;\">        0</td></tr>\n",
              "</tbody>\n",
              "</table>"
            ]
          },
          "metadata": {
            "tags": []
          }
        },
        {
          "output_type": "execute_result",
          "data": {
            "text/plain": [
              ""
            ]
          },
          "metadata": {
            "tags": []
          },
          "execution_count": 6
        }
      ]
    },
    {
      "cell_type": "code",
      "metadata": {
        "id": "fpWLnRCublnR",
        "colab": {
          "base_uri": "https://localhost:8080/"
        },
        "outputId": "056f4caf-00fd-48b5-9927-3057d6d0ba25"
      },
      "source": [
        "app = Flask(__name__)\n",
        "run_with_ngrok(app)\n",
        "\n",
        "@app.route('/', methods=['GET', 'POST'])\n",
        "def test():\n",
        "\n",
        "  hf = return_NewH2o_Frame()\n",
        "  json_input = request.json\n",
        "\n",
        "  hf[0, 'Exposure'] = json_input['Exposure']\n",
        "  hf[0, 'LicAge'] = json_input['LicAge']\n",
        "  hf[0, 'DrivAge'] = json_input['DrivAge']\n",
        "  hf[0, 'HasKmLimit'] = json_input['HasKmLimit']\n",
        "  hf[0, 'BonusMalus'] = json_input['BonusMalus']\n",
        "  hf[0, 'Dataset'] = json_input['Dataset']\n",
        "\n",
        "  prediction_binaminal = model_glm_binaminal.predict(hf)\n",
        "\n",
        "  predict = prediction_binaminal.as_data_frame()['predict'][0]/1\n",
        "  p0 = prediction_binaminal.as_data_frame()['p0'][0]\n",
        "  p1 = prediction_binaminal.as_data_frame()['p1'][0]\n",
        "\n",
        "  print(prediction_binaminal.as_data_frame())\n",
        "  return jsonify({'ID': json_input['ID'], 'predict': predict, 'p0': p0, 'p1': p1})\n",
        "\n",
        "if __name__ == \"__main__\":\n",
        "    app.run()"
      ],
      "execution_count": 7,
      "outputs": [
        {
          "output_type": "stream",
          "text": [
            " * Serving Flask app \"__main__\" (lazy loading)\n",
            " * Environment: production\n",
            "   WARNING: This is a development server. Do not use it in a production deployment.\n",
            "   Use a production WSGI server instead.\n",
            " * Debug mode: off\n"
          ],
          "name": "stdout"
        },
        {
          "output_type": "stream",
          "text": [
            " * Running on http://127.0.0.1:5000/ (Press CTRL+C to quit)\n"
          ],
          "name": "stderr"
        },
        {
          "output_type": "stream",
          "text": [
            " * Running on http://c84b90e973c8.ngrok.io\n",
            " * Traffic stats available on http://127.0.0.1:4040\n",
            "Parse progress: |█████████████████████████████████████████████████████████| 100%\n",
            "glm prediction progress: |████████████████████████████████████████████████| 100%\n",
            "   predict        p0        p1\n",
            "0        0  0.934193  0.065807\n"
          ],
          "name": "stdout"
        },
        {
          "output_type": "stream",
          "text": [
            "127.0.0.1 - - [26/Nov/2020 00:28:42] \"GET / HTTP/1.1\" 200 -\n"
          ],
          "name": "stderr"
        }
      ]
    },
    {
      "cell_type": "markdown",
      "metadata": {
        "id": "0BPp6b11giFa"
      },
      "source": [
        "### Отчет : скрин экрана с ответом + ноутбук оборачивания модели на Flask"
      ]
    }
  ]
}