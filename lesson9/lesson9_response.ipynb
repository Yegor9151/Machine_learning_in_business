{
 "cells": [
  {
   "cell_type": "code",
   "execution_count": 1,
   "metadata": {
    "id": "DriIky1pBkMD"
   },
   "outputs": [],
   "source": [
    "import requests"
   ]
  },
  {
   "cell_type": "code",
   "execution_count": 2,
   "metadata": {
    "id": "JsZuO4APBoTW"
   },
   "outputs": [],
   "source": [
    "data = {\n",
    "  'ID': 1,\n",
    "  'Exposure': 0.500,\n",
    "  'LicAge': 300,\n",
    "  'DrivAge': 40, \n",
    "  'HasKmLimit': 0, \n",
    "  'BonusMalus': 70, \n",
    "  'Dataset': 1\n",
    "}"
   ]
  },
  {
   "cell_type": "code",
   "execution_count": 3,
   "metadata": {
    "colab": {
     "base_uri": "https://localhost:8080/"
    },
    "id": "g9bJDY8WB3vK",
    "outputId": "08fb092c-4586-4f9d-c946-5b5e881f0a1f"
   },
   "outputs": [
    {
     "name": "stdout",
     "output_type": "stream",
     "text": [
      "{'ID': 1, 'p0': 0.9341934844140106, 'p1': 0.0658065155859894, 'predict': 0.0}\n"
     ]
    }
   ],
   "source": [
    "def send_json(data):\n",
    "    url = 'http://c84b90e973c8.ngrok.io'\n",
    "    headers = {'content-type': 'application/json'}\n",
    "    response = requests.get(url, json=data, headers=headers)\n",
    "    return response\n",
    "\n",
    "# обращение к серверу\n",
    "if __name__ == '__main__':\n",
    "    response = send_json(data)\n",
    "    print(response.json())"
   ]
  }
 ],
 "metadata": {
  "colab": {
   "name": "lesson9_response.ipynb",
   "provenance": []
  },
  "kernelspec": {
   "display_name": "Python 3",
   "language": "python",
   "name": "python3"
  },
  "language_info": {
   "codemirror_mode": {
    "name": "ipython",
    "version": 3
   },
   "file_extension": ".py",
   "mimetype": "text/x-python",
   "name": "python",
   "nbconvert_exporter": "python",
   "pygments_lexer": "ipython3",
   "version": "3.7.4"
  }
 },
 "nbformat": 4,
 "nbformat_minor": 1
}
